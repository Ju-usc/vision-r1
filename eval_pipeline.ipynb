{
 "cells": [
  {
   "cell_type": "code",
   "execution_count": 32,
   "metadata": {},
   "outputs": [
    {
     "ename": "PermissionError",
     "evalue": "[Errno 1] Operation not permitted",
     "output_type": "error",
     "traceback": [
      "\u001b[31m---------------------------------------------------------------------------\u001b[39m",
      "\u001b[31mPermissionError\u001b[39m                           Traceback (most recent call last)",
      "\u001b[36mCell\u001b[39m\u001b[36m \u001b[39m\u001b[32mIn[32]\u001b[39m\u001b[32m, line 4\u001b[39m\n\u001b[32m      2\u001b[39m \u001b[38;5;28;01mfrom\u001b[39;00m\u001b[38;5;250m \u001b[39m\u001b[34;01mtyping\u001b[39;00m\u001b[38;5;250m \u001b[39m\u001b[38;5;28;01mimport\u001b[39;00m Any, Dict, List\n\u001b[32m      3\u001b[39m \u001b[38;5;28;01mimport\u001b[39;00m\u001b[38;5;250m \u001b[39m\u001b[34;01mntpath\u001b[39;00m\n\u001b[32m----> \u001b[39m\u001b[32m4\u001b[39m \u001b[38;5;28;01mimport\u001b[39;00m\u001b[38;5;250m \u001b[39m\u001b[34;01mevals\u001b[39;00m\n\u001b[32m      5\u001b[39m \u001b[38;5;28;01mimport\u001b[39;00m\u001b[38;5;250m \u001b[39m\u001b[34;01mcsv\u001b[39;00m\n\u001b[32m      6\u001b[39m \u001b[38;5;28;01mimport\u001b[39;00m\u001b[38;5;250m \u001b[39m\u001b[34;01mxml\u001b[39;00m\u001b[34;01m.\u001b[39;00m\u001b[34;01metree\u001b[39;00m\u001b[34;01m.\u001b[39;00m\u001b[34;01mElementTree\u001b[39;00m\u001b[38;5;250m \u001b[39m\u001b[38;5;28;01mas\u001b[39;00m\u001b[38;5;250m \u001b[39m\u001b[34;01mET\u001b[39;00m\n",
      "\u001b[36mFile \u001b[39m\u001b[32m<frozen importlib._bootstrap>:1360\u001b[39m, in \u001b[36m_find_and_load\u001b[39m\u001b[34m(name, import_)\u001b[39m\n",
      "\u001b[36mFile \u001b[39m\u001b[32m<frozen importlib._bootstrap>:1322\u001b[39m, in \u001b[36m_find_and_load_unlocked\u001b[39m\u001b[34m(name, import_)\u001b[39m\n",
      "\u001b[36mFile \u001b[39m\u001b[32m<frozen importlib._bootstrap>:1262\u001b[39m, in \u001b[36m_find_spec\u001b[39m\u001b[34m(name, path, target)\u001b[39m\n",
      "\u001b[36mFile \u001b[39m\u001b[32m<frozen importlib._bootstrap_external>:1559\u001b[39m, in \u001b[36mfind_spec\u001b[39m\u001b[34m(cls, fullname, path, target)\u001b[39m\n",
      "\u001b[36mFile \u001b[39m\u001b[32m<frozen importlib._bootstrap_external>:1531\u001b[39m, in \u001b[36m_get_spec\u001b[39m\u001b[34m(cls, fullname, path, target)\u001b[39m\n",
      "\u001b[36mFile \u001b[39m\u001b[32m<frozen importlib._bootstrap_external>:1510\u001b[39m, in \u001b[36m_path_importer_cache\u001b[39m\u001b[34m(cls, path)\u001b[39m\n",
      "\u001b[31mPermissionError\u001b[39m: [Errno 1] Operation not permitted"
     ]
    }
   ],
   "source": [
    "import json\n",
    "from typing import Any, Dict, List\n",
    "import ntpath\n",
    "import evals\n",
    "import csv\n",
    "import xml.etree.ElementTree as ET\n",
    "\n",
    "def parse_jsonl(file_path: str) -> List[Dict[str, Any]]:\n",
    "    \"\"\"\n",
    "    Parse a JSONL file where each line is a JSON object containing:\n",
    "      - image_path: str\n",
    "      - recipe_xml: str\n",
    "      - ing_vecs: List[List[float]]\n",
    "      - step_vecs: List[List[float]]\n",
    "\n",
    "    Returns a list of dictionaries with those keys.\n",
    "    \"\"\"\n",
    "    entries: List[Dict[str, Any]] = []\n",
    "    with open(file_path, 'r', encoding='utf-8') as f:\n",
    "        for line in f:\n",
    "            line = line.strip()\n",
    "            if not line:\n",
    "                continue\n",
    "            data = json.loads(line)\n",
    "            entry = {\n",
    "                'image_path': 'Food Images/Food Images/' + ntpath.basename(data.get('image_path', '')),\n",
    "                'recipe_xml': data.get('recipe_xml', ''),\n",
    "                'ing_vecs': data.get('ing_vecs', []),\n",
    "                'step_vecs': data.get('step_vecs', []),\n",
    "            }\n",
    "            entries.append(entry)\n",
    "    return entries\n",
    "\n",
    "data = parse_jsonl('/Users/BenChung/Desktop/CSCI 467/vision-r1/data/dev_stage/dev_pairs_vec.jsonl')\n",
    "print(data[0]['image_path'])\n",
    "\n",
    "results = []\n",
    "csv_path = '/Users/BenChung/Downloads/Generated Recipes.csv'\n",
    "with open(csv_path, newline='', encoding='utf-8') as csvfile:\n",
    "    reader = csv.DictReader(csvfile)\n",
    "    for row in reader:\n",
    "        xml_str = row.get(\"response\", \"\")\n",
    "        category = None\n",
    "        if xml_str:\n",
    "            try:\n",
    "                root = ET.fromstring(xml_str)\n",
    "                cat_elem = root.find('.//response_category')\n",
    "                if cat_elem is not None:\n",
    "                    category = cat_elem.text\n",
    "            except ET.ParseError:\n",
    "                # malformed XML—leave category as None\n",
    "                pass\n",
    "        # row['response_category'] = category\n",
    "        results.append(row)\n",
    "\n",
    "\n",
    "\n",
    "model_xml_outputs = results\n",
    "\n",
    "aggregate_evals = []\n",
    "\n",
    "print(data)\n",
    "\n",
    "for i, example in enumerate(data):\n",
    "    temp = evals.compute_evals(model_xml_outputs[i], example)\n",
    "    if temp == None: continue\n",
    "    else: aggregate_evals.append(temp)\n",
    "\n",
    "print(aggregate_evals)\n",
    "\n",
    "\n"
   ]
  },
  {
   "cell_type": "code",
   "execution_count": 24,
   "metadata": {},
   "outputs": [],
   "source": [
    "data = parse_jsonl('/Users/BenChung/Desktop/CSCI 467/vision-r1/data/dev_stage/dev_pairs_vec.jsonl')\n"
   ]
  },
  {
   "cell_type": "code",
   "execution_count": 25,
   "metadata": {},
   "outputs": [
    {
     "name": "stdout",
     "output_type": "stream",
     "text": [
      "Food Images/Food Images/pasta-with-lentil-bolognese-239172.jpg\n",
      "Food Images/Food Images/chioggia-beets-with-raspberry-mint-vinaigrette-232297.jpg\n",
      "Food Images/Food Images/berry-and-ricotta-slice-56389417.jpg\n",
      "Food Images/Food Images/blade-steaks-with-lemon-herb-sauce-236938.jpg\n",
      "Food Images/Food Images/potato-and-pea-salad-with-chive-aioli-105282.jpg\n",
      "Food Images/Food Images/parsley-celery-leaf-and-jicama-salad-355514.jpg\n",
      "Food Images/Food Images/mustard-crusted-boneless-prime-rib-roast-with-cream-sauce.jpg\n",
      "Food Images/Food Images/sour-cream-apple-pie-230782.jpg\n",
      "Food Images/Food Images/crab-cakes-242592.jpg\n",
      "Food Images/Food Images/hoisin-marinated-pork-chops-234138.jpg\n",
      "Food Images/Food Images/turkey-enchiladas-51197020.jpg\n",
      "Food Images/Food Images/almond-pear-galette-236924.jpg\n",
      "Food Images/Food Images/lemon-raspberry-french-toast-strata-238006.jpg\n",
      "Food Images/Food Images/lemon-custard-pie-355991.jpg\n",
      "Food Images/Food Images/hirsheimers-hot-sweet-mustard-51134430.jpg\n",
      "Food Images/Food Images/kohlrabi-and-apple-salad-with-caraway-51193090.jpg\n",
      "Food Images/Food Images/thai-beef-salad.jpg\n",
      "Food Images/Food Images/blt-wraps-with-horseradish-mayonnaise.jpg\n",
      "Food Images/Food Images/rib-eye-t-bone-and-strip-steaks-cut-over-one-inch-358670.jpg\n",
      "Food Images/Food Images/herbed-bean-salad-242767.jpg\n"
     ]
    }
   ],
   "source": [
    "for i in data:\n",
    "    print(i[\"image_path\"])\n"
   ]
  },
  {
   "cell_type": "code",
   "execution_count": null,
   "metadata": {},
   "outputs": [],
   "source": []
  }
 ],
 "metadata": {
  "kernelspec": {
   "display_name": "CSCI467",
   "language": "python",
   "name": "python3"
  },
  "language_info": {
   "codemirror_mode": {
    "name": "ipython",
    "version": 3
   },
   "file_extension": ".py",
   "mimetype": "text/x-python",
   "name": "python",
   "nbconvert_exporter": "python",
   "pygments_lexer": "ipython3",
   "version": "3.13.1"
  }
 },
 "nbformat": 4,
 "nbformat_minor": 2
}
